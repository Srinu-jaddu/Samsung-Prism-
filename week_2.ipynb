{
 "cells": [
  {
   "cell_type": "code",
   "execution_count": 14,
   "id": "b28b5700",
   "metadata": {},
   "outputs": [],
   "source": [
    "#Read && Write Images Using CV2\n",
    "import cv2\n",
    "import matplotlib.pyplot as plt\n",
    "\n",
    "def read_write(img_path):\n",
    "    image = cv2.imread(img_path)\n",
    "    plt.imshow(image)\n",
    "    plt.show()\n",
    "pic_path = \"pic_path\"\n",
    "\n"
   ]
  },
  {
   "cell_type": "code",
   "execution_count": 17,
   "id": "2053cac9",
   "metadata": {},
   "outputs": [
    {
     "name": "stdout",
     "output_type": "stream",
     "text": [
      "Video Saved At Given Path\n"
     ]
    }
   ],
   "source": [
    "# To Convert Single Image into a Video \n",
    "import cv2\n",
    "def Img2Video(image_path,video_path,fps,duration):\n",
    "    image = cv2.imread(image_path)\n",
    "    height,width,layers   = image.shape\n",
    "    fourcc = cv2.VideoWriter_fourcc(*'mp4v')  # For .mp4 files\n",
    "    video = cv2.VideoWriter(video_path, fourcc, fps, (width, height)) #To Write Frame into Video\n",
    "    \n",
    "    #calculate the number of frames\n",
    "    num_frames = int(fps * duration)\n",
    "    \n",
    "    for i in range(num_frames):\n",
    "        video.write(image)\n",
    "    video.release()\n",
    "    print(\"Video Saved At Given Path\")\n",
    "    \n",
    "    \n",
    "image_path = \"C:\\\\Users\\\\Srinu Jaddu\\\\OneDrive\\\\Desktop\\\\121AD0015.jpg\"\n",
    "video_path  = \"C:\\\\Users\\\\Srinu Jaddu\\\\OneDrive\\\\Desktop\\\\SAMSUNG PRISM\\\\Video_output.mp4\"\n",
    "duration = 20\n",
    "fps = 20\n",
    "Img2Video(image_path,video_path,fps,duration)"
   ]
  },
  {
   "cell_type": "code",
   "execution_count": 24,
   "id": "cfdc63be",
   "metadata": {},
   "outputs": [
    {
     "name": "stdout",
     "output_type": "stream",
     "text": [
      "Video frame rate: 20 FPS\n",
      "Images Are Saved To The Output Folder\n"
     ]
    }
   ],
   "source": [
    "#To Convert Video into a Image \n",
    "import cv2\n",
    "import os\n",
    "def Video2Img(video_path,image_path,frame_rate):\n",
    "    if not os.path.exists(image_path):\n",
    "        os.makedirs(image_path)\n",
    "    video = cv2.VideoCapture(video_path)\n",
    "    if not video.isOpened():\n",
    "        print(\"Video Path Not Found\")\n",
    "    \n",
    "    # Get the frame rate of the video\n",
    "    video_frame_rate = int(video.get(cv2.CAP_PROP_FPS))\n",
    "    print(f\"Video frame rate: {video_frame_rate} FPS\")\n",
    "\n",
    "    # Calculate the interval between frames to extract\n",
    "    frame_interval = int(video_frame_rate / frame_rate)\n",
    "\n",
    "    frame_count = 0\n",
    "    extracted_count = 0\n",
    "\n",
    "    while True:\n",
    "        ret, frame = video.read()\n",
    "\n",
    "        if not ret:\n",
    "            break\n",
    "\n",
    "        if frame_count % frame_interval == 0:\n",
    "            frame_name = os.path.join(image_path, f\"frame_{extracted_count:04d}.jpg\")\n",
    "            cv2.imwrite(frame_name, frame)\n",
    "            extracted_count += 1\n",
    "\n",
    "        frame_count += 1\n",
    "\n",
    "    # Release the video capture object\n",
    "    video.release()\n",
    "    print(\"Images Are Saved To The Output Folder\")\n",
    "\n",
    "\n",
    "video_path  = \"C:\\\\Users\\\\Srinu Jaddu\\\\OneDrive\\\\Desktop\\\\SAMSUNG PRISM\\\\Video_output.mp4\"\n",
    "image_folder = \"C:\\\\Users\\\\Srinu Jaddu\\\\OneDrive\\\\Desktop\\\\SAMSUNG PRISM\"\n",
    "frame_rate = 10 #Extract 10 Frames Per second\n",
    "Video2Img(video_path,image_folder,frame_rate)  \n",
    "    \n",
    "    "
   ]
  },
  {
   "cell_type": "code",
   "execution_count": 4,
   "id": "ac7f3c08",
   "metadata": {},
   "outputs": [
    {
     "name": "stdout",
     "output_type": "stream",
     "text": [
      "NV21 image conversion successful and saved.\n"
     ]
    }
   ],
   "source": [
    "import cv2\n",
    "import numpy as np\n",
    "\n",
    "def rgb_to_nv21(image):\n",
    "    # Convert RGB to YUV\n",
    "    yuv_image = cv2.cvtColor(image, cv2.COLOR_RGB2YUV_I420)\n",
    "    \n",
    "    # Get the dimensions of the image\n",
    "    height, width = image.shape[:2]\n",
    "    \n",
    "    # Split the YUV image into Y, U, and V channels\n",
    "    y_plane = yuv_image[:height, :]\n",
    "    u_plane = yuv_image[height:height + height // 4].reshape(height // 2, width // 2)\n",
    "    v_plane = yuv_image[height + height // 4:].reshape(height // 2, width // 2)\n",
    "    \n",
    "    # Interleave U and V to create the NV21 image\n",
    "    uv_plane = np.empty((height // 2, width), dtype=np.uint8)\n",
    "    uv_plane[:, 0::2] = v_plane\n",
    "    uv_plane[:, 1::2] = u_plane\n",
    "    \n",
    "    # Concatenate Y and UV planes\n",
    "    nv21_image = np.vstack((y_plane, uv_plane))\n",
    "    \n",
    "    return nv21_image\n",
    "\n",
    "# Load your RGB image\n",
    "image_path = \"C:\\\\Users\\\\Srinu Jaddu\\\\OneDrive\\\\Desktop\\\\121AD0015.jpg\"\n",
    "rgb_image = cv2.imread(image_path)\n",
    "\n",
    "# Check if the image is loaded correctly\n",
    "if rgb_image is None:\n",
    "    print(\"Error loading image. Please check the file path.\")\n",
    "else:\n",
    "    # Convert the RGB image to NV21 format\n",
    "    nv21_image = rgb_to_nv21(rgb_image)\n",
    "    \n",
    "    # Save the NV21 image (optional, as binary data or to file)\n",
    "    nv21_image.tofile('C:\\\\Users\\\\Srinu Jaddu\\\\OneDrive\\\\Desktop\\\\nv21_image.yuv')\n",
    "    print(\"NV21 image conversion successful and saved.\")\n"
   ]
  },
  {
   "cell_type": "code",
   "execution_count": null,
   "id": "60ec08fc",
   "metadata": {},
   "outputs": [],
   "source": []
  }
 ],
 "metadata": {
  "kernelspec": {
   "display_name": "Python 3 (ipykernel)",
   "language": "python",
   "name": "python3"
  },
  "language_info": {
   "codemirror_mode": {
    "name": "ipython",
    "version": 3
   },
   "file_extension": ".py",
   "mimetype": "text/x-python",
   "name": "python",
   "nbconvert_exporter": "python",
   "pygments_lexer": "ipython3",
   "version": "3.11.5"
  }
 },
 "nbformat": 4,
 "nbformat_minor": 5
}
